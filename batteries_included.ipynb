{
 "cells": [
  {
   "cell_type": "markdown",
   "metadata": {},
   "source": [
    "# 🔋✨ Batteries Included ✨🔋"
   ]
  },
  {
   "cell_type": "markdown",
   "metadata": {},
   "source": [
    "# hello, I'm jojo\n",
    "\n",
    "![jojo](images/jojo.jpg)\n",
    "\n",
    "- Brazilian 🇧🇷 by nature | South African 🇿🇦 by heart\n",
    "- Software Developer 👨‍💻\n",
    "- Community Lover ❤️\n",
    "- **Follow me on ~~everything~~ Twitter @jonatasbaldin** "
   ]
  },
  {
   "cell_type": "markdown",
   "metadata": {},
   "source": [
    "# The Python Standard Library 🐍\n",
    "\n",
    "- everything that comes by default with Python\n",
    "- _it is_ **huge**\n",
    "- no `pip` required 😉\n",
    "\n",
    "\n",
    "- kindly organized in five categories:\n",
    "    - Built-in Types\n",
    "    - Built-in Constants\n",
    "    - Built-in Methods\n",
    "    - Built-in Exceptions\n",
    "    - Built-in Modules"
   ]
  },
  {
   "cell_type": "code",
   "execution_count": null,
   "metadata": {
    "scrolled": true
   },
   "outputs": [],
   "source": [
    "# what about gravity?\n",
    "import antigravity"
   ]
  },
  {
   "cell_type": "code",
   "execution_count": null,
   "metadata": {
    "scrolled": true
   },
   "outputs": [],
   "source": [
    "from constants import *"
   ]
  },
  {
   "cell_type": "markdown",
   "metadata": {},
   "source": [
    "# Built-in Types\n",
    "Those things like `str`, `int`, `list`, `dict`, `set`, `bytes`, `class`"
   ]
  },
  {
   "cell_type": "code",
   "execution_count": null,
   "metadata": {
    "scrolled": true
   },
   "outputs": [],
   "source": [
    "'this is a string'\n",
    "\n",
    "b'im some bytes, but I look like a string'\n",
    "\n",
    "[1, 2, 'strings too', ['anoter list', 1]]\n",
    "\n",
    "{'name': 'jojo'}\n",
    "\n",
    "s1 = frozenset({1, 2, 3})\n",
    "# s1.add(4)\n",
    "s2 = {2, 3, 4}\n",
    "s1 | s2\n",
    "s1 & s2"
   ]
  },
  {
   "cell_type": "markdown",
   "metadata": {},
   "source": [
    "# Built-in Constants\n",
    "`True`, `False`, `None`, `NotImplemented`, `Ellipsis`"
   ]
  },
  {
   "cell_type": "code",
   "execution_count": null,
   "metadata": {
    "scrolled": true
   },
   "outputs": [],
   "source": [
    "Ellipsis\n",
    "True\n",
    "False\n",
    "None\n",
    "Ellipsis\n",
    "\n",
    "l = [1,2,3]\n",
    "l.append(l)\n",
    "print(l[-1][-1][-1])"
   ]
  },
  {
   "cell_type": "markdown",
   "metadata": {},
   "source": [
    "# Built-in Functions\n",
    "Methods you just _use_"
   ]
  },
  {
   "cell_type": "markdown",
   "metadata": {},
   "source": [
    "### any/all"
   ]
  },
  {
   "cell_type": "code",
   "execution_count": null,
   "metadata": {
    "scrolled": true
   },
   "outputs": [],
   "source": [
    "if 10 > 1 and 10 > 2 and 10 > 3 and 10 > 4 and 10 > 5 and 10 > 6:\n",
    "    print('yeah, 10 is a big number')\n",
    "    \n",
    "conditions = [\n",
    "    10 > 1, \n",
    "    10 > 2, \n",
    "    10 > 3, \n",
    "    10 > 4, \n",
    "    10 > 5, \n",
    "    10 > 11,\n",
    "]\n",
    "\n",
    "falses = [False, 1 > 10]\n",
    "\n",
    "if all(conditions):\n",
    "    print('all returns True if every condition is True')\n",
    "    \n",
    "if any(conditions):\n",
    "    print('any returns True if any condition is True')\n",
    "    \n",
    "if any(falses):\n",
    "    print('any returns True if any condition is True')"
   ]
  },
  {
   "cell_type": "markdown",
   "metadata": {},
   "source": [
    "### breakpoint"
   ]
  },
  {
   "cell_type": "code",
   "execution_count": null,
   "metadata": {
    "scrolled": true
   },
   "outputs": [],
   "source": [
    "# a convenient and configurable way to start a Python debbuger\n",
    "# setting the PYTHONBREAKPOINT environment variable to 0 disables all calls to breakpoint\n",
    "# setting it to the debbuger callable, as ipdb.set_trace(), will open the specified debugger\n",
    "# breakpoint()\n",
    "\n",
    "# below doesn't work on jupyter :(\n",
    "# %env PYTHONBREAKPOINT=0\n",
    "# breakpoint()\n",
    "# %env PYTHONBREAKPOINT=ipdb.set_trace\n",
    "# breakpoint()"
   ]
  },
  {
   "cell_type": "markdown",
   "metadata": {},
   "source": [
    "### type"
   ]
  },
  {
   "cell_type": "code",
   "execution_count": null,
   "metadata": {
    "scrolled": true
   },
   "outputs": [],
   "source": [
    "# returns the type of an object\n",
    "print(type(pokedex))\n",
    "print(type(pikachu_id))\n",
    "print(type(bulbasaur))\n",
    "print(type(True))\n",
    "print(type(None))\n",
    "\n",
    "# or creates a new type (what??? yeah...)\n",
    "# the two classes definitions bellow are equivalent\n",
    "class Pokemon:\n",
    "    name = 'pikachu'\n",
    "\n",
    "p = Pokemon()\n",
    "print(p.name)\n",
    "\n",
    "Pokemon = type('Pokemon', (object,), {'name': 'pikachu'})\n",
    "p = Pokemon()\n",
    "print(p.name)"
   ]
  },
  {
   "cell_type": "markdown",
   "metadata": {},
   "source": [
    "### isinstance"
   ]
  },
  {
   "cell_type": "code",
   "execution_count": null,
   "metadata": {
    "scrolled": true
   },
   "outputs": [],
   "source": [
    "# evaluates if an object is an instance of determined type\n",
    "print(isinstance(pokedex, str))\n",
    "print(isinstance(pokemons, list))"
   ]
  },
  {
   "cell_type": "markdown",
   "metadata": {},
   "source": [
    "### dir"
   ]
  },
  {
   "cell_type": "code",
   "execution_count": null,
   "metadata": {
    "scrolled": true
   },
   "outputs": [],
   "source": [
    "# try its best to show the object attributes, methods etc\n",
    "print(dir(pokedex))\n",
    "print(dir(Pokemon))"
   ]
  },
  {
   "cell_type": "markdown",
   "metadata": {},
   "source": [
    "### help"
   ]
  },
  {
   "cell_type": "code",
   "execution_count": null,
   "metadata": {
    "scrolled": true
   },
   "outputs": [],
   "source": [
    "# shows the docs :)\n",
    "help(str)\n",
    "\n",
    "# also interactive, but not on jupyter :()\n",
    "# help()"
   ]
  },
  {
   "cell_type": "markdown",
   "metadata": {},
   "source": [
    "### max/min"
   ]
  },
  {
   "cell_type": "code",
   "execution_count": null,
   "metadata": {
    "scrolled": true
   },
   "outputs": [],
   "source": [
    "# returns the max or min from an iterable\n",
    "print(max(ids))\n",
    "print(min(ids))"
   ]
  },
  {
   "cell_type": "markdown",
   "metadata": {},
   "source": [
    "### zip"
   ]
  },
  {
   "cell_type": "code",
   "execution_count": null,
   "metadata": {
    "scrolled": true
   },
   "outputs": [],
   "source": [
    "# combines two lists, basically\n",
    "zipped = zip(ids, pokemons)\n",
    "print(zipped)\n",
    "print(list(zipped))\n",
    "\n",
    "for n, c in zip(ids, pokemons):\n",
    "    print(n, c)\n",
    "    \n",
    "for i, (n, c) in enumerate(zip(ids, pokemons)):\n",
    "    print(i, n, c)"
   ]
  },
  {
   "cell_type": "markdown",
   "metadata": {},
   "source": [
    "# Built-in Exceptions\n",
    "Gotta `try`/`except` them all!"
   ]
  },
  {
   "cell_type": "code",
   "execution_count": null,
   "metadata": {
    "scrolled": true
   },
   "outputs": [],
   "source": [
    "# I wonder if the list have an item on that index...\n",
    "try:\n",
    "    ids[10]\n",
    "except IndexError as error:\n",
    "    print(error)\n",
    "    \n",
    "# I wonder if I installed that packaged...\n",
    "try:\n",
    "    import that_package\n",
    "except ImportError as error:\n",
    "    print(error)"
   ]
  },
  {
   "cell_type": "markdown",
   "metadata": {},
   "source": [
    "# Built-in Modules\n",
    "Let's `import` some code"
   ]
  },
  {
   "cell_type": "markdown",
   "metadata": {},
   "source": [
    "### pprint, because beautiful is better than ugly"
   ]
  },
  {
   "cell_type": "code",
   "execution_count": null,
   "metadata": {
    "scrolled": false
   },
   "outputs": [],
   "source": [
    "# printing things nicely\n",
    "from pprint import pprint\n",
    "\n",
    "# Normal printing\n",
    "print(bulbasaur)\n",
    "\n",
    "# Pretty printing\n",
    "pprint(bulbasaur)\n",
    "\n",
    "# Just print until depth 3\n",
    "pprint(bulbasaur, depth=3)\n",
    "\n",
    "# Indent the lines\n",
    "pprint(bulbasaur, indent=4)\n",
    "\n",
    "# Nested data prints nicely too!\n",
    "ids.append(ids)\n",
    "print(ids)\n",
    "pprint(ids)\n",
    "ids.pop()"
   ]
  },
  {
   "cell_type": "markdown",
   "metadata": {},
   "source": [
    "### collections, container types"
   ]
  },
  {
   "cell_type": "code",
   "execution_count": null,
   "metadata": {
    "scrolled": true
   },
   "outputs": [],
   "source": [
    "# collections.defaultdict\n",
    "# dict with a default key value, not need to \"initialize\" the value\n",
    "from collections import defaultdict\n",
    "\n",
    "# this will raise a KeyError, since 'name' was not initialized\n",
    "d = dict()\n",
    "try:\n",
    "    for name in pokemon_names:\n",
    "        d['name'].append(name)\n",
    "except KeyError:\n",
    "    pass\n",
    "    \n",
    "# now it works! because the default value for the keys is a list\n",
    "d = defaultdict(list)\n",
    "for name in pokemon_names:\n",
    "    d['name'].append(name)\n",
    "    \n",
    "# collections.Counter\n",
    "# user, err, to count :)\n",
    "from collections import Counter\n",
    "c = Counter(pokedex)\n",
    "\n",
    "# look the counters!\n",
    "print(c)\n",
    "\n",
    "# +1 to 'a'\n",
    "c.update('a')\n",
    "print(c)\n",
    "\n",
    "# -1 to 'c'\n",
    "c.subtract('c')\n",
    "print(c)\n",
    "\n",
    "# nice to count types of Pokemons\n",
    "print(pokemon_types)\n",
    "types = Counter([_type for name, _type in pokemon_types])\n",
    "print(types)\n",
    "\n",
    "# most common types\n",
    "print(types.most_common(3))\n",
    "\n",
    "# some math stuff\n",
    "print(types + types)\n",
    "print(types - types)\n",
    "print(types | c)\n",
    "print(types & c)\n",
    "\n",
    "# collections.namedtuple\n",
    "# simply data holder\n",
    "from collections import namedtuple\n",
    "\n",
    "# a tuple is a nice data holder, since it's immutable\n",
    "# but you need to remember the positional arguments and access by index\n",
    "print(pikachu)\n",
    "print(pikachu[0])\n",
    "print(pikachu[1])\n",
    "print(pikachu[2])\n",
    "\n",
    "# with named tuple, things get interesting\n",
    "Pokemon = namedtuple('Pokemon', ['id', 'name', 'type'])\n",
    "pikachu = Pokemon(*pikachu)\n",
    "# access fields\n",
    "print(pikachu.id)\n",
    "print(pikachu.type)\n",
    "\n",
    "# nice __repr__ with name=value\n",
    "print(pikachu)\n",
    "\n",
    "# anyone needs a dict?\n",
    "print(pikachu._asdict())\n",
    "\n",
    "# do you want the fields? \n",
    "# nice to create other namedtuples!\n",
    "print(pikachu._fields)\n",
    "DetailedPokemon = namedtuple('DetailedPokemon', Pokemon._fields + ('Evolutions',))\n",
    "detailed_pikachu = DetailedPokemon(*pikachu, ['Pichu'])\n",
    "print(detailed_pikachu)"
   ]
  },
  {
   "cell_type": "markdown",
   "metadata": {},
   "source": [
    "### dataclasses, the AWESOME data holder"
   ]
  },
  {
   "cell_type": "code",
   "execution_count": null,
   "metadata": {
    "scrolled": true
   },
   "outputs": [],
   "source": [
    "# dataclasses\n",
    "# create classes with a lot less boilerplate\n",
    "# in comparisson with namedtuple:\n",
    "# - it's a normal class, you can add anything you would to a class\n",
    "# - create a class type\n",
    "# - can be mutable\n",
    "# - namedtuple are compare as tuple\n",
    "\n",
    "# this is a normal class\n",
    "class PokemonClass:\n",
    "    # needs to write init\n",
    "    # no idea about the arguments typying\n",
    "    def __init__(self, id, name, type):\n",
    "        self.id = id\n",
    "        self.name = name\n",
    "        self.type = type\n",
    "        \n",
    "pikachu_class = PokemonClass(*pikachu)\n",
    "\n",
    "# no representation\n",
    "print(pikachu_class)\n",
    "# can't compare\n",
    "print(pikachu_class == PokemonClass(*pikachu))\n",
    "\n",
    "# now with more power!\n",
    "import dataclasses\n",
    "from typing import List\n",
    "\n",
    "# accepts some parameters, as:\n",
    "# - repr=False: to not implement the `repr` method\n",
    "# - frozen=True: implement a frozen class (like a namedtuple)\n",
    "@dataclasses.dataclass\n",
    "class Pokemon:\n",
    "    # implements a default __init__\n",
    "    # use type hints!\n",
    "    id: int\n",
    "    name: str\n",
    "    # default value \n",
    "    type: str = 'Grass'\n",
    "    # use `field` method for custom options\n",
    "    evolutions: List[str] = dataclasses.field(default_factory=list)\n",
    "        \n",
    "    # can add normal methods\n",
    "    def is_pikachu(self):\n",
    "        return self.name.lower() == 'pikachu'\n",
    "        \n",
    "pikachu_dc = Pokemon(*pikachu)\n",
    "\n",
    "# nice representation\n",
    "# implements a default __repr__\n",
    "print(pikachu_dc)\n",
    "\n",
    "# we can compare objects!\n",
    "# implements a default __eq__\n",
    "print(pikachu_dc == Pokemon(*pikachu))\n",
    "\n",
    "# using default values\n",
    "print(Pokemon(1, 'Bulbasaur'))\n",
    "\n",
    "# using methods\n",
    "print(pikachu_dc.is_pikachu())\n",
    "\n",
    "# if frozen, this raises a FrozenInstanceError\n",
    "pikachu_dc.name = 'Mr. Mime'"
   ]
  },
  {
   "cell_type": "markdown",
   "metadata": {},
   "source": [
    "### tempfile, life is too short to manage files"
   ]
  },
  {
   "cell_type": "code",
   "execution_count": null,
   "metadata": {
    "scrolled": true
   },
   "outputs": [],
   "source": [
    "# tempfile\n",
    "# creates temporary files in disk or in memory\n",
    "import tempfile\n",
    "\n",
    "# writing a temp file\n",
    "with tempfile.TemporaryFile(mode='w+t') as tf:\n",
    "    tf.write('this is a text!')\n",
    "    tf.seek(0)\n",
    "    print(type(tf))\n",
    "    print(tf.name)\n",
    "    print(tf.read())\n",
    "\n",
    "try:\n",
    "    tf.seek(0)\n",
    "except ValueError as e:\n",
    "    print(e)\n",
    "    \n",
    "# or creating an temporary dir\n",
    "import pathlib\n",
    "with tempfile.TemporaryDirectory() as td:\n",
    "    print(td)\n",
    "    d = pathlib.Path(td)\n",
    "    print(d.exists())\n",
    "    \n",
    "print(d.exists())\n",
    "    \n",
    "# if the file is small, you can write it to memory\n",
    "# until it reaches `max_size`\n",
    "with tempfile.SpooledTemporaryFile(mode='w+t', max_size=100) as tf:\n",
    "    tf.write('this is a text')\n",
    "    tf.seek(0)\n",
    "    print(tf.name)\n",
    "    print(type(tf))\n",
    "    print(tf.read())\n",
    "    # use the rollover method to write the content to the disk\n",
    "    tf.rollover()"
   ]
  },
  {
   "cell_type": "markdown",
   "metadata": {},
   "source": [
    "### pathlib, dealing with directories"
   ]
  },
  {
   "cell_type": "code",
   "execution_count": null,
   "metadata": {
    "scrolled": true
   },
   "outputs": [],
   "source": [
    "# pathlib\n",
    "# pure classes that don't change the FS\n",
    "# concrete classes that alter the filesystem\n",
    "# multi platform, with the peculiarities hidden by the Path object\n",
    "from pathlib import Path\n",
    "\n",
    "# what can it do?\n",
    "# list, parse, create, write to files, see metadata\n",
    "etc = Path('/etc/')\n",
    "\n",
    "# list\n",
    "# print(list(etc.iterdir()))\n",
    "# print(list(etc.glob('**/*.conf')))\n",
    "\n",
    "# construct trees using the /\n",
    "pwd = etc / 'cups/snmp.conf'\n",
    "print(pwd)\n",
    "\n",
    "# parse the filepath\n",
    "print(pwd.name)\n",
    "print(pwd.suffix)\n",
    "print(pwd.stem)\n",
    "\n",
    "# checks\n",
    "print(pwd.is_dir())\n",
    "print(pwd.is_file())\n",
    "\n",
    "# metadata\n",
    "print(pwd.lstat())\n",
    "\n",
    "# actually read the files\n",
    "with pwd.open() as f:\n",
    "    print(f.read())\n",
    "print(pwd.read_text())\n",
    "\n",
    "# or write to files\n",
    "tmp = Path('/tmp/test.txt')\n",
    "tmp.write_text('this is a text')\n",
    "print(tmp.read_text())"
   ]
  },
  {
   "cell_type": "markdown",
   "metadata": {},
   "source": [
    "### doctests, because they document and test at the same time"
   ]
  },
  {
   "cell_type": "code",
   "execution_count": null,
   "metadata": {
    "scrolled": true
   },
   "outputs": [],
   "source": [
    "# doctests\n",
    "# write tests directly in the docstrings :o\n",
    "# save this in a mult.py file\n",
    "def mult(a, b):\n",
    "    \"\"\"\n",
    "    Multiplies a and b.\n",
    "\n",
    "    >>> a, b = 2, 5\n",
    "    >>> mult(a, b)\n",
    "    10\n",
    "\n",
    "    # Using traceback\n",
    "    >>> mult(1, 2, 3)\n",
    "    Traceback (most recent call last):\n",
    "    TypeError: mult() takes 2 positional arguments but 3 were given\n",
    "    \"\"\"\n",
    "\n",
    "    return a * b\n",
    "\n",
    "# run:\n",
    "# !python -m doctest mult.py\n",
    "# -v for details"
   ]
  },
  {
   "cell_type": "markdown",
   "metadata": {},
   "source": [
    "### calendar, interacting with dates"
   ]
  },
  {
   "cell_type": "code",
   "execution_count": null,
   "metadata": {
    "scrolled": true
   },
   "outputs": [],
   "source": [
    "# calendar\n",
    "# general functions and constants to deal with dates\n",
    "import calendar\n",
    "\n",
    "# isntantiate a new calendar with a custom (but default) first weekday\n",
    "c = calendar.Calendar(firstweekday=calendar.MONDAY)\n",
    "\n",
    "# returns an iterator with datetime.date for all days in October 2018\n",
    "october_days = c.itermonthdates(2018, 10)\n",
    "list(october_days)\n",
    "\n",
    "# print all \"calendar\" days from 2018\n",
    "list(c.yeardatescalendar(2018))\n",
    "\n",
    "# print a nice calendar, looks like `cal` from Unix\n",
    "calendar.prcal(2018)\n",
    "\n",
    "# also make some cheks\n",
    "calendar.isleap(2018)\n",
    "calendar.weekday(2018, 10, 10)\n",
    "calendar.leapdays(1994, 2018)\n",
    "\n",
    "# what month was last month?\n",
    "calendar.prevmonth(2018, 10)\n",
    "calendar.prevmonth(2018, 1)"
   ]
  },
  {
   "cell_type": "markdown",
   "metadata": {},
   "source": [
    "### inspect, looking into live objects"
   ]
  },
  {
   "cell_type": "code",
   "execution_count": null,
   "metadata": {
    "scrolled": true
   },
   "outputs": [],
   "source": [
    "# inspect\n",
    "# take a peak at live objects\n",
    "import inspect\n",
    "from inspect import signature\n",
    "\n",
    "# check info on objects\n",
    "print(inspect.isclass(pikachu_dc))\n",
    "print(inspect.isfunction(mult))\n",
    "\n",
    "# get the signature from a callable\n",
    "def catch_them_all(a, b: int, *args, **kwargs) -> bool:\n",
    "    \"\"\"\n",
    "    Look at me I'm the docs!\n",
    "    \"\"\"\n",
    "    return 'Pokemon!'\n",
    "\n",
    "sig = signature(catch_them_all)\n",
    "print(sig.parameters)\n",
    "print(sig.return_annotation)\n",
    "\n",
    "# look at the parameters\n",
    "b = sig.parameters.get('b')\n",
    "print(b.name)\n",
    "print(b.annotation)\n",
    "\n",
    "# get source\n",
    "print(inspect.getsource(catch_them_all))\n",
    "\n",
    "# get doc\n",
    "print(inspect.getdoc(catch_them_all))"
   ]
  },
  {
   "cell_type": "markdown",
   "metadata": {},
   "source": [
    "### shutil, easily deal with files"
   ]
  },
  {
   "cell_type": "code",
   "execution_count": null,
   "metadata": {
    "scrolled": true
   },
   "outputs": [],
   "source": [
    "# shutil\n",
    "# high-level file operations\n",
    "import shutil\n",
    "\n",
    "!rm -rfv /tmp/file*.txt\n",
    "\n",
    "with open('/tmp/file1.txt', 'wt') as f:\n",
    "    f.write('hello')\n",
    "\n",
    "# try to copy all metadata\n",
    "shutil.copy2('/tmp/file1.txt', '/tmp/file2.txt')\n",
    "!ls -lah /tmp/file*.txt\n",
    "\n",
    "# copies just the metadata\n",
    "!chmod 777 /tmp/file1.txt\n",
    "shutil.copymode('/tmp/file1.txt', '/tmp/file2.txt')\n",
    "!ls -lah /tmp/file*.txt\n",
    "\n",
    "# copy the whole tree\n",
    "!ls ~/Documents/\n",
    "try:\n",
    "    shutil.copytree('/Users/jonatasbaldin/Documents/', '/Users/jonatasbaldin/Documents2/')\n",
    "except FileExistsError:\n",
    "    print('Already copied ;)')\n",
    "!ls ~/Documents2/\n",
    "\n",
    "# find files\n",
    "shutil.which('python')\n",
    "\n",
    "# see disk usage\n",
    "shutil.disk_usage('/')\n",
    "\n",
    "# make archives!\n",
    "# here we are archiving the `/tmp` in a `shutil_archive` file in a `zip` format, storing it in the `.` dir\n",
    "shutil.make_archive('shutil_archive', format='zip', root_dir='/tmp/', base_dir='.')\n",
    "!ls ."
   ]
  },
  {
   "cell_type": "markdown",
   "metadata": {},
   "source": [
    "### timeit, timing small bits of code"
   ]
  },
  {
   "cell_type": "code",
   "execution_count": null,
   "metadata": {
    "scrolled": false
   },
   "outputs": [],
   "source": [
    "# timeti\n",
    "import timeit\n",
    "\n",
    "s1 = 'list(map(lambda x: x * 2, range(100)))'\n",
    "s2 = '[x * 2 for x in range(100)]'\n",
    "\n",
    "# tries the two statements and outputs the time\n",
    "# by default, it will execute 1000000 times\n",
    "print(timeit.timeit(stmt=s1, number=1000000))\n",
    "print(timeit.timeit(stmt=s2, number=1000000))\n",
    "\n",
    "# same as above, but repeats it two times\n",
    "# not that the most important value is the min() one\n",
    "# https://docs.python.org/3/library/timeit.html#timeit.Timer.repeat\n",
    "# print(timeit.repeat(stmt=s1, repeat=2))\n",
    "# print(timeit.repeat(stmt=s2, repeat=2))\n",
    "\n",
    "# there's a cmd\n",
    "# takes more time because does it 5 times by default, unless -r is specified\n",
    "!python -m timeit -n 1000000 -r 1 'list(map(lambda x: x * 2, range(100)))'\n",
    "!python -m timeit -n 1000000 -r 1 '[x * 2 for x in range(100)]'"
   ]
  },
  {
   "cell_type": "markdown",
   "metadata": {},
   "source": [
    "### iterttools, going functional"
   ]
  },
  {
   "cell_type": "code",
   "execution_count": null,
   "metadata": {},
   "outputs": [],
   "source": [
    "# itertools\n",
    "# tooling for working with datasets and iterators\n",
    "import itertools\n",
    "\n",
    "\n",
    "# infinite interators\n",
    "c = itertools.count(10)\n",
    "print(next(c))\n",
    "print(next(c))\n",
    "for i in c:\n",
    "    if i == 20:\n",
    "        break\n",
    "    print(i)\n",
    "    \n",
    "s = 0\n",
    "for i in itertools.cycle(ids):\n",
    "    print(i)\n",
    "    s += 1\n",
    "    if s == 9:\n",
    "        break\n",
    "        \n",
    "# chaining several iterators and returning one!\n",
    "chainned = itertools.chain(ids, pokemons, ids)\n",
    "for item in chainned:\n",
    "    print(item)\n",
    "    \n",
    "# remember zip? here's his cousing\n",
    "# can you spot the difference?\n",
    "for a, b in itertools.zip_longest(ids, [1,2]):\n",
    "    print(a, b)"
   ]
  },
  {
   "cell_type": "markdown",
   "metadata": {},
   "source": [
    "### functools, MORE FUNCTIONAL"
   ]
  },
  {
   "cell_type": "code",
   "execution_count": null,
   "metadata": {},
   "outputs": [],
   "source": [
    "# functools\n",
    "# tools for adapting or extending functions and callables\n",
    "import functools\n",
    "\n",
    "\n",
    "# creates a partial function\n",
    "mult_by_4 = functools.partial(mult, 4)\n",
    "print(mult_by_4)\n",
    "print(mult_by_4(3))\n",
    "\n",
    "# you can create a partial from a partial, because it's just a function\n",
    "mult_by_4_3 = functools.partial(mult_by_4, 3)\n",
    "print(mult_by_4_3())\n",
    "\n",
    "# generic functions\n",
    "# acts different depending on the argument type\n",
    "@functools.singledispatch\n",
    "def print_correct(arg):\n",
    "    pass\n",
    "\n",
    "@print_correct.register(int)\n",
    "def print_correct_int(arg):\n",
    "    print(arg)\n",
    "    \n",
    "@print_correct.register(list)\n",
    "def print_correct_list(arg):\n",
    "    for i in arg:\n",
    "        print(i)\n",
    "        \n",
    "print(print_correct(1))\n",
    "print(print_correct(ids))\n",
    "\n",
    "# easy caching\n",
    "# Arguments to the function are used to build a hash key, which is then mapped to the result. \n",
    "# Subsequent calls with the same arguments will fetch the value from the cache instead of calling the function. \n",
    "# by PYMOTW\n",
    "from urllib.request import Request, urlopen\n",
    "import json\n",
    "\n",
    "@functools.lru_cache()\n",
    "def req(url):\n",
    "    req = Request(url, headers=headers)\n",
    "    content = json.loads(urlopen(req).read())\n",
    "    return content"
   ]
  },
  {
   "cell_type": "code",
   "execution_count": null,
   "metadata": {},
   "outputs": [],
   "source": [
    "print(req('https://pokeapi.co/api/v2/'))\n",
    "# shows the cache info\n",
    "print(req.cache_info())\n",
    "print(req('https://pokeapi.co/api/v2/pokedex/'))\n",
    "print(req.cache_info())\n",
    "\n",
    "# clears the cache\n",
    "req.cache_clear()"
   ]
  },
  {
   "cell_type": "markdown",
   "metadata": {},
   "source": [
    "### pickle and shelve, PICKLE RICK"
   ]
  },
  {
   "cell_type": "code",
   "execution_count": null,
   "metadata": {
    "scrolled": true
   },
   "outputs": [],
   "source": [
    "# pickle\n",
    "# provide serialization and deserealization of Python objects\n",
    "import pickle\n",
    "\n",
    "# dumping to bytes object\n",
    "pokemons_pickled = pickle.dumps(pokemons)\n",
    "print(pokemons_pickled)\n",
    "\n",
    "# loading from a bytes object\n",
    "pokemons_reloaded = pickle.loads(pokemons_pickled)\n",
    "print(pokemons_reloaded)\n",
    "\n",
    "# be careful while pickling custom class instances\n",
    "# the class needs to be defined somewhere\n",
    "# because just the values from the class instance is pickled!\n",
    "pikachu_dc_pickled = pickle.dumps(pikachu_dc)\n",
    "# if the Pokemon class is overwritten, an UnpicklingError will be raised\n",
    "# Pokemon = None\n",
    "print(pickle.loads(pikachu_dc_pickled).name)\n",
    "\n",
    "\n",
    "# shelve\n",
    "# a key-store database for objects that can be pickled\n",
    "# does not suppoert concurrent read/write access (but support concurrent read-only)\n",
    "# uses `pickle` on its behalf, so it comes with the same limitations\n",
    "import shelve\n",
    "\n",
    "# saving objects in a file\n",
    "shelf = shelve.open('database.db')\n",
    "shelf['pokemons'] = pokemons\n",
    "shelf.close()\n",
    "\n",
    "# loading objects from a file\n",
    "shelf_openned = shelve.open('database.db')\n",
    "pokemons_shelved = shelf_openned['pokemons']\n",
    "shelf_openned.close()\n",
    "\n",
    "print(pokemons_shelved)"
   ]
  },
  {
   "cell_type": "markdown",
   "metadata": {},
   "source": [
    "### platform, what is your computer?"
   ]
  },
  {
   "cell_type": "code",
   "execution_count": null,
   "metadata": {},
   "outputs": [],
   "source": [
    "# platform\n",
    "import platform\n",
    "\n",
    "# system/os name\n",
    "print(platform.system())\n",
    "\n",
    "# system architecture\n",
    "print(platform.architecture())\n",
    "\n",
    "# getting info about the python system\n",
    "for func in dir(platform):\n",
    "    if func.startswith('python'):\n",
    "        print(f'{func}: ', eval(f'platform.{func}')())\n",
    "        \n",
    "# get OS version\n",
    "print(platform.mac_ver())\n",
    "print(platform.win32_ver())\n",
    "print(platform.linux_distribution()) # deprecated, gonna go on 3.8\n",
    "\n",
    "# namedtuple with lots of info\n",
    "print(platform.uname())"
   ]
  },
  {
   "cell_type": "markdown",
   "metadata": {},
   "source": [
    "### http.server, yeah, I know!!!!!"
   ]
  },
  {
   "cell_type": "code",
   "execution_count": null,
   "metadata": {},
   "outputs": [],
   "source": [
    "!python -m http.server 8000 --directory /Users/jonatasbaldin/Documents/"
   ]
  },
  {
   "cell_type": "markdown",
   "metadata": {},
   "source": [
    "# And much, much more!\n",
    "\n",
    "![Python Standard Library List](images/python_libs.png)"
   ]
  },
  {
   "cell_type": "markdown",
   "metadata": {},
   "source": [
    "# Do you want to know more?\n",
    "\n",
    "- [The Python Standard Library Documentation (https://docs.python.org/3/library/)](https://docs.python.org/3/library/)\n",
    "- [Python 3 Module of the Week (https://pymotw.com/3/)](https://pymotw.com/3/)\n",
    "- [Python Lib Source Code (https://github.com/python/cpython/tree/master/Lib)](https://github.com/python/cpython/tree/master/Lib)"
   ]
  },
  {
   "cell_type": "markdown",
   "metadata": {},
   "source": [
    "# Thank you!\n",
    "\n",
    "- Find me to talk about Python Std Lib ❤️🐍\n",
    "- Or to talk about anything, really **¯\\\\_(ツ)_/¯**\n",
    "- Get this notebook here: [https://github.com/jonatasbaldin/batteries-included](https://github.com/jonatasbaldin/batteries-included) 🤓\n",
    "- Follow me on the Internet **@jonatasbaldin** 🐦\n",
    "- Byeeeeeeeee 🍰"
   ]
  }
 ],
 "metadata": {
  "kernelspec": {
   "display_name": "Python 3",
   "language": "python",
   "name": "python3"
  },
  "language_info": {
   "codemirror_mode": {
    "name": "ipython",
    "version": 3
   },
   "file_extension": ".py",
   "mimetype": "text/x-python",
   "name": "python",
   "nbconvert_exporter": "python",
   "pygments_lexer": "ipython3",
   "version": "3.7.0"
  }
 },
 "nbformat": 4,
 "nbformat_minor": 2
}
